{
 "cells": [
  {
   "cell_type": "code",
   "execution_count": 1,
   "id": "6f7e6dec",
   "metadata": {},
   "outputs": [
    {
     "name": "stdout",
     "output_type": "stream",
     "text": [
      "Hello, world!\n",
      "123\n",
      "42\n",
      "Name: Alice Age: 30\n"
     ]
    }
   ],
   "source": [
    "# Printing a string\n",
    "print(\"Hello, world!\")\n",
    "# Printing a number\n",
    "print(123)\n",
    "# Printing a variable\n",
    "x = 42\n",
    "print(x)\n",
    "# Printing multiple items\n",
    "name = \"Alice\"\n",
    "age = 30\n",
    "print(\"Name:\", name, \"Age:\", age)"
   ]
  },
  {
   "cell_type": "code",
   "execution_count": 2,
   "id": "aede6766",
   "metadata": {},
   "outputs": [
    {
     "name": "stdout",
     "output_type": "stream",
     "text": [
      "<class 'int'>\n"
     ]
    }
   ],
   "source": [
    "x = 10\n",
    "print(type(x)) \n",
    "\n"
   ]
  },
  {
   "cell_type": "code",
   "execution_count": 3,
   "id": "9062bb99",
   "metadata": {},
   "outputs": [
    {
     "name": "stdout",
     "output_type": "stream",
     "text": [
      "False\n",
      "True\n",
      "False\n"
     ]
    }
   ],
   "source": [
    "a = True\n",
    "b = False\n",
    "print(a and b) # Logical AND\n",
    "print(a or b) # Logical OR\n",
    "print(not a) # Logical NOT"
   ]
  },
  {
   "cell_type": "code",
   "execution_count": 4,
   "id": "96342e32",
   "metadata": {},
   "outputs": [
    {
     "name": "stdout",
     "output_type": "stream",
     "text": [
      "0\n",
      "1\n",
      "2\n",
      "3\n",
      "4\n"
     ]
    }
   ],
   "source": [
    "for i in range(5):\n",
    " print(i)"
   ]
  },
  {
   "cell_type": "code",
   "execution_count": 5,
   "id": "e1e0c863",
   "metadata": {},
   "outputs": [
    {
     "name": "stdout",
     "output_type": "stream",
     "text": [
      "0\n",
      "1\n",
      "2\n",
      "3\n",
      "4\n"
     ]
    }
   ],
   "source": [
    "count = 0\n",
    "while count < 5:\n",
    " print(count)\n",
    " count += 1"
   ]
  },
  {
   "cell_type": "code",
   "execution_count": 6,
   "id": "ef342149",
   "metadata": {},
   "outputs": [
    {
     "name": "stdout",
     "output_type": "stream",
     "text": [
      "<class 'str'>\n",
      "<class 'int'>\n",
      "<class 'float'>\n",
      "<class 'bool'>\n"
     ]
    }
   ],
   "source": [
    "# Defining variables\n",
    "name = \"Alice\" # String\n",
    "iq = 140 # Integer\n",
    "height = 5.6 # Float\n",
    "is_student = True # Boolean\n",
    "\n",
    "print(type(name))\n",
    "print(type(iq))\n",
    "print(type(height))\n",
    "print(type(is_student))"
   ]
  },
  {
   "cell_type": "code",
   "execution_count": 9,
   "id": "e02e2a69",
   "metadata": {},
   "outputs": [
    {
     "name": "stdout",
     "output_type": "stream",
     "text": [
      "30\n",
      "12\n"
     ]
    }
   ],
   "source": [
    "x = 10\n",
    "y = 15\n",
    "x += 5 # Equivalent to x = x + 5\n",
    "x *= 2 # Equivalent to x = x * 2\n",
    "y -= 3 # Equivalent to y = y - 3\n",
    "\n",
    "print(x)\n",
    "print(y)"
   ]
  },
  {
   "cell_type": "code",
   "execution_count": null,
   "id": "bf789a9e",
   "metadata": {},
   "outputs": [],
   "source": [
    "# Get user input as a string\n",
    "name = input(\"Enter your name: \")\n",
    "print(\"Hello, \" + name + \"!\")\n",
    "\n",
    "# Get user input as an integer\n",
    "age = input(\"Enter your age: \")\n",
    "age = int(age)\n",
    "print(\"You are\", age, \"years old.\")\n",
    "\n",
    "# Get user input as a float\n",
    "price = input(\"Enter the price: \")\n",
    "price = float(price)\n",
    "print(\"The price is\", price)"
   ]
  },
  {
   "cell_type": "code",
   "execution_count": 1,
   "id": "8a101488",
   "metadata": {},
   "outputs": [
    {
     "name": "stdout",
     "output_type": "stream",
     "text": [
      "Enter your name: Vaibhavi Tilak\n",
      "Hello, Vaibhavi Tilak!\n"
     ]
    }
   ],
   "source": [
    "# Get user input as a string\n",
    "name = input(\"Enter your name: \")\n",
    "print(\"Hello, \" + name + \"!\")\n"
   ]
  },
  {
   "cell_type": "code",
   "execution_count": 2,
   "id": "d29db084",
   "metadata": {},
   "outputs": [
    {
     "name": "stdout",
     "output_type": "stream",
     "text": [
      "apple\n",
      "['apple', 'banana', 'cherry', 'orange']\n"
     ]
    }
   ],
   "source": [
    "fruits = [\"apple\", \"banana\", \"cherry\"]\n",
    "print(fruits[0]) # Accessing elements at postion 1\n",
    "fruits.append(\"orange\") # Adding an element\n",
    "print(fruits)\n"
   ]
  },
  {
   "cell_type": "code",
   "execution_count": 4,
   "id": "00cb17d3",
   "metadata": {},
   "outputs": [
    {
     "name": "stdout",
     "output_type": "stream",
     "text": [
      "hello\n"
     ]
    }
   ],
   "source": [
    "coordinates = (1, \"hello\", 3.14, True)\n",
    "print(coordinates[1])\n"
   ]
  },
  {
   "cell_type": "code",
   "execution_count": 5,
   "id": "68c603c2",
   "metadata": {},
   "outputs": [
    {
     "name": "stdout",
     "output_type": "stream",
     "text": [
      "{1, 2, 3}\n"
     ]
    }
   ],
   "source": [
    "unique_numbers = {1, 2, 3, 3}\n",
    "print(unique_numbers) # Set will print unique numbers, it will not allow duplicates"
   ]
  },
  {
   "cell_type": "code",
   "execution_count": 6,
   "id": "a3f17413",
   "metadata": {},
   "outputs": [
    {
     "name": "stdout",
     "output_type": "stream",
     "text": [
      "Rambika\n"
     ]
    }
   ],
   "source": [
    "student = {\"name\": \"Rambika\", \"age\": 21}\n",
    "print(student[\"name\"])"
   ]
  },
  {
   "cell_type": "code",
   "execution_count": 9,
   "id": "c374d0ae",
   "metadata": {},
   "outputs": [
    {
     "name": "stdout",
     "output_type": "stream",
     "text": [
      "x is greater than 5\n"
     ]
    }
   ],
   "source": [
    "x = 10\n",
    "if x > 5:\n",
    " print(\"x is greater than 5\")\n",
    "elif x == 5:\n",
    " print(\"x is equal to 5\")\n",
    "else:\n",
    " print(\"x is less than 5\")"
   ]
  },
  {
   "cell_type": "code",
   "execution_count": null,
   "id": "dfd40f9a",
   "metadata": {},
   "outputs": [],
   "source": []
  },
  {
   "cell_type": "code",
   "execution_count": 10,
   "id": "bfc1a524",
   "metadata": {},
   "outputs": [
    {
     "name": "stdout",
     "output_type": "stream",
     "text": [
      "<built-in method read of _io.TextIOWrapper object at 0x000001FD335B9970>\n",
      "192.168.1.1 443 server1.local\n",
      "\n"
     ]
    }
   ],
   "source": [
    "a = open(\"Logfile.txt\", \"r\") \n",
    "print(a.read)\n",
    "\n",
    "#Reading it by line\n",
    "b = open(\"Logfile.txt\", \"r\") \n",
    "print(b.readline())"
   ]
  },
  {
   "cell_type": "code",
   "execution_count": 11,
   "id": "2422232b",
   "metadata": {},
   "outputs": [
    {
     "name": "stdout",
     "output_type": "stream",
     "text": [
      "<built-in method read of _io.TextIOWrapper object at 0x000001FD335BADC0>\n"
     ]
    }
   ],
   "source": [
    "a = open(\"Logfile.txt\", \"r\") \n",
    "print(a.read)\n"
   ]
  },
  {
   "cell_type": "code",
   "execution_count": 23,
   "id": "6baaa974",
   "metadata": {},
   "outputs": [
    {
     "name": "stdout",
     "output_type": "stream",
     "text": [
      "192.168.1.1 443 server1.local\n",
      "203.0.113.5 22 SSH login failed  \n",
      "10.0.0.25 3306 Database connection established  \n",
      "198.51.100.7 80 HTTP request received  \n",
      "172.16.45.30 8080 Proxy access granted  \n",
      "192.168.2.15 3389 RDP login attempt  \n",
      "198.51.100.25 443 API request authenticated  \n",
      "203.0.113.10 1194 VPN connection established  \n",
      "192.168.3.50 80 Web request served  \n",
      "172.16.22.11 445 SMB file access  \n",
      "10.0.1.100 22 SSH login success  \n",
      "192.168.4.5 53 DNS query resolved  \n",
      "203.0.113.200 443 TLS handshake completed  \n",
      "172.16.5.8 514 Syslog message received  \n",
      "10.10.10.10 23 Telnet connection attempt  \n",
      "172.16.22.11 445 SMB file access\n"
     ]
    }
   ],
   "source": [
    "a = open(\"Logfile.txt\", \"r\") \n",
    "print(a.read())\n"
   ]
  },
  {
   "cell_type": "code",
   "execution_count": 16,
   "id": "056ae0a1",
   "metadata": {},
   "outputs": [
    {
     "name": "stdout",
     "output_type": "stream",
     "text": [
      "192.168.1.1 443 server1.local\n",
      "\n",
      "203.0.113.5 22 SSH login failed  \n",
      "\n",
      "10.0.0.25 3306 Database connection established  \n",
      "\n",
      "198.51.100.7 80 HTTP request received  \n",
      "\n",
      "172.16.45.30 8080 Proxy access granted  \n",
      "\n",
      "192.168.2.15 3389 RDP login attempt  \n",
      "\n",
      "198.51.100.25 443 API request authenticated  \n",
      "\n",
      "203.0.113.10 1194 VPN connection established  \n",
      "\n",
      "192.168.3.50 80 Web request served  \n",
      "\n",
      "172.16.22.11 445 SMB file access  \n",
      "\n",
      "10.0.1.100 22 SSH login success  \n",
      "\n"
     ]
    }
   ],
   "source": [
    "b = open(\"Logfile.txt\", \"r\") \n",
    "for i in (\"Logfile.txt\"):\n",
    " print(b.readline())"
   ]
  },
  {
   "cell_type": "code",
   "execution_count": 21,
   "id": "59647e1a",
   "metadata": {},
   "outputs": [
    {
     "ename": "NameError",
     "evalue": "name 'write' is not defined",
     "output_type": "error",
     "traceback": [
      "\u001b[1;31m---------------------------------------------------------------------------\u001b[0m",
      "\u001b[1;31mNameError\u001b[0m                                 Traceback (most recent call last)",
      "Cell \u001b[1;32mIn[21], line 1\u001b[0m\n\u001b[1;32m----> 1\u001b[0m f \u001b[38;5;241m=\u001b[39m write(\u001b[38;5;124m\"\u001b[39m\u001b[38;5;124m172.16.22.11 445 SMB file access\u001b[39m\u001b[38;5;124m\"\u001b[39m, \u001b[38;5;124m\"\u001b[39m\u001b[38;5;124mw\u001b[39m\u001b[38;5;124m\"\u001b[39m)\n\u001b[0;32m      2\u001b[0m f\u001b[38;5;241m.\u001b[39mclose()\n",
      "\u001b[1;31mNameError\u001b[0m: name 'write' is not defined"
     ]
    }
   ],
   "source": [
    "f = write(\"172.16.22.11 445 SMB file access\", \"w\")\n",
    "f.close()\n",
    "\n",
    "#open and read the file after the appending:\n",
    "#a = open(\"Logfile.txt\", \"r\")\n",
    "#print(a.read())"
   ]
  },
  {
   "cell_type": "code",
   "execution_count": 22,
   "id": "38abcd0c",
   "metadata": {},
   "outputs": [
    {
     "name": "stdout",
     "output_type": "stream",
     "text": [
      "192.168.1.1 443 server1.local\n",
      "203.0.113.5 22 SSH login failed  \n",
      "10.0.0.25 3306 Database connection established  \n",
      "198.51.100.7 80 HTTP request received  \n",
      "172.16.45.30 8080 Proxy access granted  \n",
      "192.168.2.15 3389 RDP login attempt  \n",
      "198.51.100.25 443 API request authenticated  \n",
      "203.0.113.10 1194 VPN connection established  \n",
      "192.168.3.50 80 Web request served  \n",
      "172.16.22.11 445 SMB file access  \n",
      "10.0.1.100 22 SSH login success  \n",
      "192.168.4.5 53 DNS query resolved  \n",
      "203.0.113.200 443 TLS handshake completed  \n",
      "172.16.5.8 514 Syslog message received  \n",
      "10.10.10.10 23 Telnet connection attempt  \n",
      "172.16.22.11 445 SMB file access\n"
     ]
    }
   ],
   "source": [
    "f = open(\"Logfile.txt\", \"a\")\n",
    "f.write(\"\\n172.16.22.11 445 SMB file access\")  # Added \\n to ensure proper formatting\n",
    "f.close()\n",
    "\n",
    "# Open and read the file after appending\n",
    "f = open(\"Logfile.txt\", \"r\")  \n",
    "print(f.read())  \n",
    "f.close()"
   ]
  },
  {
   "cell_type": "code",
   "execution_count": 24,
   "id": "19acedb0",
   "metadata": {},
   "outputs": [
    {
     "name": "stdout",
     "output_type": "stream",
     "text": [
      "Name: John, Age: 30\n"
     ]
    }
   ],
   "source": [
    "import re\n",
    "\n",
    "text = \"Name: John, Age: 30\"\n",
    "\n",
    "# Extracting name using regex\n",
    "name = re.search(r\"Name: (.*?),\", text).group(1)\n",
    "\n",
    "# Extracting age using regex\n",
    "age = re.search(r\"Age: (.*)\", text).group(1)\n",
    "\n",
    "print(f\"Name: {name}, Age: {age}\") "
   ]
  },
  {
   "cell_type": "code",
   "execution_count": 25,
   "id": "ccab6482",
   "metadata": {},
   "outputs": [
    {
     "name": "stdout",
     "output_type": "stream",
     "text": [
      "['192.168.1.1', '443', 'server1.local']\n",
      "['203.0.113.5', '22', 'SSH', 'login', 'failed']\n",
      "['10.0.0.25', '3306', 'Database', 'connection', 'established']\n",
      "['198.51.100.7', '80', 'HTTP', 'request', 'received']\n",
      "['172.16.45.30', '8080', 'Proxy', 'access', 'granted']\n",
      "['192.168.2.15', '3389', 'RDP', 'login', 'attempt']\n",
      "['198.51.100.25', '443', 'API', 'request', 'authenticated']\n",
      "['203.0.113.10', '1194', 'VPN', 'connection', 'established']\n",
      "['192.168.3.50', '80', 'Web', 'request', 'served']\n",
      "['172.16.22.11', '445', 'SMB', 'file', 'access']\n",
      "['10.0.1.100', '22', 'SSH', 'login', 'success']\n",
      "['192.168.4.5', '53', 'DNS', 'query', 'resolved']\n",
      "['203.0.113.200', '443', 'TLS', 'handshake', 'completed']\n",
      "['172.16.5.8', '514', 'Syslog', 'message', 'received']\n",
      "['10.10.10.10', '23', 'Telnet', 'connection', 'attempt']\n",
      "['172.16.22.11', '445', 'SMB', 'file', 'access']\n"
     ]
    }
   ],
   "source": [
    "# Open the file and read it line by line\n",
    "with open(\"Logfile.txt\", \"r\") as file:\n",
    "    for line in file:\n",
    "        words = line.strip().split()  # Splitting by space\n",
    "        print(words)  # List of words from each line"
   ]
  },
  {
   "cell_type": "code",
   "execution_count": 26,
   "id": "f349b1c8",
   "metadata": {},
   "outputs": [
    {
     "name": "stdout",
     "output_type": "stream",
     "text": [
      "Hello, Alice!\n"
     ]
    }
   ],
   "source": [
    "def greet(name):\n",
    " return f\"Hello, {name}!\"\n",
    "print(greet(\"Alice\"))"
   ]
  },
  {
   "cell_type": "code",
   "execution_count": 1,
   "id": "505944b6",
   "metadata": {},
   "outputs": [],
   "source": [
    "# Open and read log file\n",
    "with open(\"Logfile.txt\", \"r\") as file:\n",
    "    logs = file.readlines()\n",
    "\n",
    "unique_ips = set()\n",
    "ip_port_map = {}\n",
    "\n",
    "# Loop through each log line\n",
    "for line in logs:\n",
    "    parts = line.strip().split()  # Split the line by whitespace\n",
    "    if len(parts) >= 2:  # Check if at least IP and Port are present\n",
    "        ip = parts[0]\n",
    "        port = parts[1]\n",
    "        unique_ips.add(ip)  # Store the unique IP\n",
    "        ip_port_map.setdefault(ip, set()).add(port)  # Map the port to the IP"
   ]
  },
  {
   "cell_type": "code",
   "execution_count": 2,
   "id": "4eec4c13",
   "metadata": {},
   "outputs": [
    {
     "name": "stdout",
     "output_type": "stream",
     "text": [
      "Unique IP Addresses:\n",
      "10.0.0.25\n",
      "10.0.1.100\n",
      "10.10.10.10\n",
      "172.16.22.11\n",
      "172.16.45.30\n",
      "172.16.5.8\n",
      "192.168.1.1\n",
      "192.168.2.15\n",
      "192.168.3.50\n",
      "192.168.4.5\n",
      "198.51.100.25\n",
      "198.51.100.7\n",
      "203.0.113.10\n",
      "203.0.113.200\n",
      "203.0.113.5\n"
     ]
    }
   ],
   "source": [
    "#Display Unique IP Addresses\n",
    "print(\"Unique IP Addresses:\")\n",
    "for ip in sorted(unique_ips):\n",
    "    print(ip)"
   ]
  },
  {
   "cell_type": "code",
   "execution_count": 3,
   "id": "985e04fa",
   "metadata": {},
   "outputs": [
    {
     "name": "stdout",
     "output_type": "stream",
     "text": [
      "\n",
      "Unique IP Addresses with Ports:\n",
      "192.168.1.1 -> Ports: 443\n",
      "203.0.113.5 -> Ports: 22\n",
      "10.0.0.25 -> Ports: 3306\n",
      "198.51.100.7 -> Ports: 80\n",
      "172.16.45.30 -> Ports: 8080\n",
      "192.168.2.15 -> Ports: 3389\n",
      "198.51.100.25 -> Ports: 443\n",
      "203.0.113.10 -> Ports: 1194\n",
      "192.168.3.50 -> Ports: 80\n",
      "172.16.22.11 -> Ports: 445\n",
      "10.0.1.100 -> Ports: 22\n",
      "192.168.4.5 -> Ports: 53\n",
      "203.0.113.200 -> Ports: 443\n",
      "172.16.5.8 -> Ports: 514\n",
      "10.10.10.10 -> Ports: 23\n"
     ]
    }
   ],
   "source": [
    "print(\"\\nUnique IP Addresses with Ports:\")\n",
    "for ip, ports in ip_port_map.items():\n",
    "    port_list = ', '.join(sorted(ports))\n",
    "    print(f\"{ip} -> Ports: {port_list}\")"
   ]
  },
  {
   "cell_type": "code",
   "execution_count": 4,
   "id": "98f89099",
   "metadata": {},
   "outputs": [
    {
     "ename": "SyntaxError",
     "evalue": "invalid syntax (1626320574.py, line 3)",
     "output_type": "error",
     "traceback": [
      "\u001b[1;36m  Cell \u001b[1;32mIn[4], line 3\u001b[1;36m\u001b[0m\n\u001b[1;33m    def extract_ip_addresses(Logfile.txt):\u001b[0m\n\u001b[1;37m                                    ^\u001b[0m\n\u001b[1;31mSyntaxError\u001b[0m\u001b[1;31m:\u001b[0m invalid syntax\n"
     ]
    }
   ],
   "source": [
    "import re\n",
    "\n",
    "def extract_ip_addresses(Logfile.txt):\n",
    "    ip_pattern = r'\\b(?:[0-9]{1,3}\\.){3}[0-9]{1,3}\\b'\n",
    "    ip_addresses = re.findall(ip_pattern, log_data)\n",
    "    return ip_addresses"
   ]
  },
  {
   "cell_type": "code",
   "execution_count": 6,
   "id": "d97255fd",
   "metadata": {},
   "outputs": [
    {
     "name": "stdout",
     "output_type": "stream",
     "text": [
      "Extracted & Validated IP Addresses:\n",
      "10.0.0.25\n",
      "10.0.1.100\n",
      "10.10.10.10\n",
      "172.16.22.11\n",
      "172.16.45.30\n",
      "172.16.5.8\n",
      "192.168.1.1\n",
      "192.168.2.15\n",
      "192.168.3.50\n",
      "192.168.4.5\n",
      "198.51.100.25\n",
      "198.51.100.7\n",
      "203.0.113.10\n",
      "203.0.113.200\n",
      "203.0.113.5\n"
     ]
    }
   ],
   "source": [
    "import re\n",
    "import ipaddress\n",
    "\n",
    "def extract_ip_addresses(log_data):\n",
    "    # Regex pattern to match IPv4 addresses\n",
    "    ip_pattern = r'\\b(?:[0-9]{1,3}\\.){3}[0-9]{1,3}\\b'\n",
    "    ip_addresses = re.findall(ip_pattern, log_data)\n",
    "    return ip_addresses\n",
    "\n",
    "def validate_ip(ip_addresses):\n",
    "    # Validate each IP using the ipaddress library for 100% correctness\n",
    "    valid_ips = []\n",
    "    for ip in ip_addresses:\n",
    "        try:\n",
    "            ipaddress.IPv4Address(ip)  # Raises ValueError if invalid\n",
    "            valid_ips.append(ip)\n",
    "        except ValueError:\n",
    "            continue\n",
    "    return valid_ips\n",
    "\n",
    "# Read the log file\n",
    "with open(\"Logfile.txt\", \"r\") as file:\n",
    "    log_data = file.read()\n",
    "\n",
    "# Extract IPs\n",
    "raw_ips = extract_ip_addresses(log_data)\n",
    "\n",
    "# Validate IPs\n",
    "valid_ips = validate_ip(raw_ips)\n",
    "\n",
    "# Display the result\n",
    "print(\"Extracted & Validated IP Addresses:\")\n",
    "for ip in sorted(set(valid_ips)):\n",
    "    print(ip)\n"
   ]
  },
  {
   "cell_type": "code",
   "execution_count": null,
   "id": "b34613e3",
   "metadata": {},
   "outputs": [],
   "source": []
  }
 ],
 "metadata": {
  "kernelspec": {
   "display_name": "Python 3 (ipykernel)",
   "language": "python",
   "name": "python3"
  },
  "language_info": {
   "codemirror_mode": {
    "name": "ipython",
    "version": 3
   },
   "file_extension": ".py",
   "mimetype": "text/x-python",
   "name": "python",
   "nbconvert_exporter": "python",
   "pygments_lexer": "ipython3",
   "version": "3.11.5"
  }
 },
 "nbformat": 4,
 "nbformat_minor": 5
}
